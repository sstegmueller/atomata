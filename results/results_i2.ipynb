{
 "cells": [
  {
   "cell_type": "markdown",
   "id": "e187b587-c1f3-4c0d-9a4f-a73941609757",
   "metadata": {},
   "source": [
    "# Atomata results analysis - Iteration 2"
   ]
  },
  {
   "cell_type": "code",
   "execution_count": 3,
   "id": "d6780d51-a092-46bc-81b8-92fe5abbd161",
   "metadata": {},
   "outputs": [
    {
     "name": "stdout",
     "output_type": "stream",
     "text": [
      "The autoreload extension is already loaded. To reload it, use:\n",
      "  %reload_ext autoreload\n"
     ]
    }
   ],
   "source": [
    "%load_ext autoreload\n",
    "%autoreload 2\n",
    "    \n",
    "import os.path\n",
    "import pandas as pd\n",
    "import matplotlib.pyplot as plt\n",
    "import sqlite3\n",
    "import xgboost\n",
    "import shap\n",
    "\n",
    "from python.preprocessing import preprocessing\n",
    "\n",
    "# Read sqlite query results into a pandas DataFrame\n",
    "con = sqlite3.connect(\"results.db3\")"
   ]
  },
  {
   "cell_type": "code",
   "execution_count": null,
   "id": "0cf99bf7-7419-408f-bb41-2844df72b2f6",
   "metadata": {},
   "outputs": [
    {
     "name": "stdout",
     "output_type": "stream",
     "text": [
      "Total runs to compute: 1152\n",
      "Computing results for run 1\n",
      "Computing results for run 2\n",
      "Computing results for run 3\n",
      "Computing results for run 4\n",
      "Computing results for run 5\n",
      "Computing results for run 6\n",
      "Computing results for run 7\n",
      "Computing results for run 8\n",
      "Computing results for run 9\n",
      "Computing results for run 10\n",
      "Computing results for run 11\n",
      "Computing results for run 12\n",
      "Computing results for run 13\n",
      "Computing results for run 14\n",
      "Computing results for run 15\n",
      "Computing results for run 16\n",
      "Computing results for run 17\n",
      "Computing results for run 18\n",
      "Computing results for run 19\n",
      "Computing results for run 20\n",
      "Computing results for run 21\n",
      "Computing results for run 22\n",
      "Computing results for run 23\n",
      "Computing results for run 24\n",
      "Computing results for run 25\n",
      "Computing results for run 26\n",
      "Computing results for run 27\n",
      "Computing results for run 28\n",
      "Computing results for run 29\n",
      "Computing results for run 30\n",
      "Computing results for run 31\n",
      "Computing results for run 32\n",
      "Computing results for run 33\n",
      "Computing results for run 34\n",
      "Computing results for run 35\n",
      "Computing results for run 36\n",
      "Computing results for run 37\n",
      "Computing results for run 38\n",
      "Computing results for run 39\n",
      "Computing results for run 40\n",
      "Computing results for run 41\n",
      "Computing results for run 42\n",
      "Computing results for run 43\n",
      "Computing results for run 44\n",
      "Computing results for run 45\n",
      "Computing results for run 46\n",
      "Computing results for run 47\n",
      "Computing results for run 48\n",
      "Computing results for run 49\n",
      "Computing results for run 50\n",
      "Computing results for run 51\n",
      "Computing results for run 52\n",
      "Computing results for run 53\n",
      "Computing results for run 54\n",
      "Computing results for run 55\n",
      "Computing results for run 56\n",
      "Computing results for run 57\n",
      "Computing results for run 58\n",
      "Computing results for run 59\n",
      "Computing results for run 60\n",
      "Computing results for run 61\n",
      "Computing results for run 62\n",
      "Computing results for run 63\n",
      "Computing results for run 64\n",
      "Computing results for run 65\n",
      "Computing results for run 66\n",
      "Computing results for run 67\n",
      "Computing results for run 68\n",
      "Computing results for run 69\n",
      "Computing results for run 70\n",
      "Computing results for run 71\n",
      "Computing results for run 72\n",
      "Computing results for run 73\n",
      "Computing results for run 74\n",
      "Computing results for run 75\n",
      "Computing results for run 76\n",
      "Computing results for run 77\n",
      "Computing results for run 78\n",
      "Computing results for run 79\n",
      "Computing results for run 80\n",
      "Computing results for run 81\n"
     ]
    }
   ],
   "source": [
    "db_file = \"results.db3\"\n",
    "results_file = \"results_i2.pickle\"\n",
    "total_results_df = preprocessing(results_file, con, db_file)\n",
    "\n",
    "buckets_sizes = total_results_df[\"bucket_size\"].unique()\n",
    "result_dfs = {}\n",
    "for bucket_size in buckets_sizes:\n",
    "    result_dfs[bucket_size] = total_results_df[total_results_df[\"bucket_size\"] == bucket_size]\n",
    "    result_dfs[bucket_size]['complexity_normalized'] = (result_dfs[bucket_size]['complexity'] - result_dfs[bucket_size]['complexity'].min()) / (result_dfs[bucket_size]['complexity'].max() - result_dfs[bucket_size]['complexity'].min())"
   ]
  },
  {
   "cell_type": "code",
   "execution_count": null,
   "id": "25187e41-0741-484c-b0d9-3f6929fa0068",
   "metadata": {},
   "outputs": [],
   "source": []
  }
 ],
 "metadata": {
  "kernelspec": {
   "display_name": "local-venv",
   "language": "python",
   "name": "local-venv"
  },
  "language_info": {
   "codemirror_mode": {
    "name": "ipython",
    "version": 3
   },
   "file_extension": ".py",
   "mimetype": "text/x-python",
   "name": "python",
   "nbconvert_exporter": "python",
   "pygments_lexer": "ipython3",
   "version": "3.11.8"
  }
 },
 "nbformat": 4,
 "nbformat_minor": 5
}
