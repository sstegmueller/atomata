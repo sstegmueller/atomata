{
 "cells": [
  {
   "cell_type": "markdown",
   "id": "6c52e210-559e-4ab6-9892-6e48aed62eaf",
   "metadata": {},
   "source": [
    "# Atomata results analysis"
   ]
  },
  {
   "cell_type": "markdown",
   "id": "17a20305-03de-485b-b57c-8482874d990c",
   "metadata": {},
   "source": [
    "## Read from database"
   ]
  },
  {
   "cell_type": "code",
   "execution_count": 1,
   "id": "f0cb9f5e-eaef-4f68-af03-bb5230518784",
   "metadata": {},
   "outputs": [],
   "source": [
    "%load_ext autoreload\n",
    "%autoreload 2\n",
    "    \n",
    "import pandas as pd\n",
    "import sqlite3\n",
    "\n",
    "from python.repository import state_vectors_by_run_id, total_runs, parameters_by_run_id\n",
    "from python.metric import empirical_probability, complexity, emergence, self_organization\n",
    "\n",
    "# Read sqlite query results into a pandas DataFrame\n",
    "con = sqlite3.connect(\"results.db3\")"
   ]
  },
  {
   "cell_type": "markdown",
   "id": "aa51ce54-ca39-48d3-82d5-0bbaddea8795",
   "metadata": {},
   "source": [
    "## Run with max. emergence"
   ]
  },
  {
   "cell_type": "code",
   "execution_count": null,
   "id": "cb4e5165-8937-46f8-82ed-31b988c00920",
   "metadata": {},
   "outputs": [],
   "source": [
    "import concurrent.futures\n",
    "from concurrent.futures import ThreadPoolExecutor\n",
    "\n",
    "# Step 1: Function to process each run\n",
    "def process_run(run_id, con, runs_count):\n",
    "    print(f\"Computing results for run {run_id}\")\n",
    "    con = sqlite3.connect(\"results.db3\")\n",
    "    state_vectors = state_vectors_by_run_id(run_id, con)\n",
    "    \n",
    "    probability_mass = state_vectors[\"count\"].map(lambda state_count: empirical_probability(state_count, runs_count))\n",
    "    cx = complexity(probability_mass)\n",
    "    return {\"run_id\": run_id, \"complexity\": cx}\n",
    "\n",
    "# Step 2: Main function to parallelize\n",
    "def parallelized_processing(con):\n",
    "    total_runs_df = total_runs(con)\n",
    "    runs_count = total_runs_df.iloc[0][\"MAX(run_id)\"]\n",
    "    print(f\"Total runs to compute: {runs_count}\")\n",
    "\n",
    "    results = []\n",
    "    \n",
    "    # Use ThreadPoolExecutor for parallel execution\n",
    "    with ThreadPoolExecutor() as executor:\n",
    "        futures = [executor.submit(process_run, run_id, con, runs_count) for run_id in range(1, runs_count + 1)]\n",
    "        for future in concurrent.futures.as_completed(futures):\n",
    "            # Gather results as each thread completes\n",
    "            results.append(future.result())\n",
    "    \n",
    "    return results\n",
    "\n",
    "# Step 3: Run the parallelized process\n",
    "results = parallelized_processing(con)\n",
    "    "
   ]
  },
  {
   "cell_type": "code",
   "execution_count": 2,
   "id": "bf6ab2a5-f050-458e-950e-e497170a5510",
   "metadata": {},
   "outputs": [
    {
     "ename": "NameError",
     "evalue": "name 'results' is not defined",
     "output_type": "error",
     "traceback": [
      "\u001b[0;31m---------------------------------------------------------------------------\u001b[0m",
      "\u001b[0;31mNameError\u001b[0m                                 Traceback (most recent call last)",
      "Cell \u001b[0;32mIn[2], line 3\u001b[0m\n\u001b[1;32m      1\u001b[0m max_run_id \u001b[38;5;241m=\u001b[39m \u001b[38;5;241m902\u001b[39m\n\u001b[1;32m      2\u001b[0m max_complexity \u001b[38;5;241m=\u001b[39m \u001b[38;5;241m0\u001b[39m\n\u001b[0;32m----> 3\u001b[0m \u001b[38;5;28;01mfor\u001b[39;00m result \u001b[38;5;129;01min\u001b[39;00m \u001b[43mresults\u001b[49m:\n\u001b[1;32m      4\u001b[0m     \u001b[38;5;28;01mif\u001b[39;00m result[\u001b[38;5;124m\"\u001b[39m\u001b[38;5;124mcomplexity\u001b[39m\u001b[38;5;124m\"\u001b[39m] \u001b[38;5;241m>\u001b[39m max_complexity:\n\u001b[1;32m      5\u001b[0m         max_complexity \u001b[38;5;241m=\u001b[39m result[\u001b[38;5;124m\"\u001b[39m\u001b[38;5;124mcomplexity\u001b[39m\u001b[38;5;124m\"\u001b[39m]\n",
      "\u001b[0;31mNameError\u001b[0m: name 'results' is not defined"
     ]
    }
   ],
   "source": [
    "max_run_id = 902\n",
    "max_complexity = 0\n",
    "for result in results:\n",
    "    if result[\"complexity\"] > max_complexity:\n",
    "        max_complexity = result[\"complexity\"]\n",
    "        max_run_id = result[\"run_id\"]"
   ]
  },
  {
   "cell_type": "code",
   "execution_count": 5,
   "id": "e9c5bb28-da52-4e19-a106-fc6900ac10b4",
   "metadata": {},
   "outputs": [
    {
     "data": {
      "text/html": [
       "<div>\n",
       "<style scoped>\n",
       "    .dataframe tbody tr th:only-of-type {\n",
       "        vertical-align: middle;\n",
       "    }\n",
       "\n",
       "    .dataframe tbody tr th {\n",
       "        vertical-align: top;\n",
       "    }\n",
       "\n",
       "    .dataframe thead th {\n",
       "        text-align: right;\n",
       "    }\n",
       "</style>\n",
       "<table border=\"1\" class=\"dataframe\">\n",
       "  <thead>\n",
       "    <tr style=\"text-align: right;\">\n",
       "      <th></th>\n",
       "      <th>run_id</th>\n",
       "      <th>amount</th>\n",
       "      <th>border</th>\n",
       "      <th>timestep</th>\n",
       "      <th>gravity_constant</th>\n",
       "      <th>friction</th>\n",
       "      <th>max_velocity</th>\n",
       "      <th>bucket_size</th>\n",
       "      <th>created_at</th>\n",
       "    </tr>\n",
       "  </thead>\n",
       "  <tbody>\n",
       "    <tr>\n",
       "      <th>0</th>\n",
       "      <td>902</td>\n",
       "      <td>100</td>\n",
       "      <td>400.0</td>\n",
       "      <td>0.0002</td>\n",
       "      <td>0.5</td>\n",
       "      <td>0.005</td>\n",
       "      <td>20000.0</td>\n",
       "      <td>5.0</td>\n",
       "      <td>2024-08-29 16:43:11</td>\n",
       "    </tr>\n",
       "  </tbody>\n",
       "</table>\n",
       "</div>"
      ],
      "text/plain": [
       "   run_id  amount  border  timestep  gravity_constant  friction  max_velocity  \\\n",
       "0     902     100   400.0    0.0002               0.5     0.005       20000.0   \n",
       "\n",
       "   bucket_size           created_at  \n",
       "0          5.0  2024-08-29 16:43:11  "
      ]
     },
     "execution_count": 5,
     "metadata": {},
     "output_type": "execute_result"
    }
   ],
   "source": [
    "max_parameters = parameters_by_run_id(max_run_id, con)\n",
    "max_parameters"
   ]
  },
  {
   "cell_type": "code",
   "execution_count": null,
   "id": "291789b9-522b-40d2-99af-76be4569bcee",
   "metadata": {},
   "outputs": [],
   "source": []
  }
 ],
 "metadata": {
  "kernelspec": {
   "display_name": "local-venv",
   "language": "python",
   "name": "local-venv"
  },
  "language_info": {
   "codemirror_mode": {
    "name": "ipython",
    "version": 3
   },
   "file_extension": ".py",
   "mimetype": "text/x-python",
   "name": "python",
   "nbconvert_exporter": "python",
   "pygments_lexer": "ipython3",
   "version": "3.11.8"
  }
 },
 "nbformat": 4,
 "nbformat_minor": 5
}
